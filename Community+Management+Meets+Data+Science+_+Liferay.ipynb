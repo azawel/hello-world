{
  "nbformat": 4,
  "nbformat_minor": 0,
  "metadata": {
    "colab": {
      "name": "Community+Management+Meets+Data+Science+-+Liferay.ipynb",
      "version": "0.3.2",
      "provenance": [],
      "include_colab_link": true
    },
    "kernelspec": {
      "display_name": "Python 3",
      "language": "python",
      "name": "python3"
    }
  },
  "cells": [
    {
      "cell_type": "markdown",
      "metadata": {
        "id": "view-in-github",
        "colab_type": "text"
      },
      "source": [
        "<a href=\"https://colab.research.google.com/github/azawel/hello-world/blob/master/Community%2BManagement%2BMeets%2BData%2BScience%2B_%2BLiferay.ipynb\" target=\"_parent\"><img src=\"https://colab.research.google.com/assets/colab-badge.svg\" alt=\"Open In Colab\"/></a>"
      ]
    },
    {
      "metadata": {
        "id": "tr0_nOu01Jvp",
        "colab_type": "text"
      },
      "cell_type": "markdown",
      "source": [
        "## SUMMARY\n",
        "As a community builder and strategist with a passion for data science, I have found that the use of  data science techniques has deepened my understanding of the communities I manage, allowing me to make better strategic and operational decisions. In this article, I aim to exemplify how the use of data science can enable community managers to gain insights communities and improve member engagement. \n",
        "\n",
        "Liferay, an open source technology company and a client of mine, hosts the [Liferay Community\n",
        "Forums](https://community.liferay.com/iw/forums). These are very active public forums with over 150,000 registered members and 30,000\n",
        "members who have actually posted. These forums are mostly Q&A exchanges between developers,\n",
        "on the topic of Liferay’s technology.  In this article, I analyze the forum members’ activity, posts, and\n",
        "behavior between 2007 and 2017.  In their open source spirit, Liferay has allowed me to publish this\n",
        "analysis of their member activity over the past 10 years. \n",
        "\n",
        "**Data Privacy Note**: No names or personal details appear here. The original forum postings and member profiles are public, so this is an extra cautionary step.\n"
      ]
    },
    {
      "metadata": {
        "id": "RAMJbMJn1Jvq",
        "colab_type": "code",
        "outputId": "0057593a-02ea-4ff3-acba-da5be359c59f",
        "colab": {
          "base_uri": "https://localhost:8080/",
          "height": 51
        }
      },
      "cell_type": "code",
      "source": [
        "import csv\n",
        "import pandas as pd\n",
        "import re\n",
        "import nltk\n",
        "nltk.download('punkt')\n",
        "import numpy as np\n",
        "import matplotlib.pyplot as plt\n",
        "import pickle as pkl\n",
        "%matplotlib inline \n",
        "\n"
      ],
      "execution_count": 1,
      "outputs": [
        {
          "output_type": "stream",
          "text": [
            "[nltk_data] Downloading package punkt to /root/nltk_data...\n",
            "[nltk_data]   Unzipping tokenizers/punkt.zip.\n"
          ],
          "name": "stdout"
        }
      ]
    },
    {
      "metadata": {
        "id": "AMXzUZjx1Jvv",
        "colab_type": "text"
      },
      "cell_type": "markdown",
      "source": [
        "## DATA DESCRIPTION\n",
        "\n",
        "To get started with my data analysis (using Python), I began with a raw file of all of the forum data.\n",
        "With some data cleaning, I created a file containing the details of every forum message. Each row in\n",
        "the file is a unique message, containing the following fields:\n",
        "\n",
        "- **UserId:**  The user who wrote the message\n",
        "- **CategoryID:**  The forums category where the message appeared, such as “Portal Framework”\n",
        "- **ThreadId:** The ID for the thread (including the initial post and all replies)\n",
        "- **Subject** The subject of the message\n",
        "- **CreateDate:** The day and time of the message "
      ]
    },
    {
      "metadata": {
        "id": "ygvpgYAJ1Jvw",
        "colab_type": "code",
        "outputId": "bb2ddcd6-dca8-4ab7-fe9e-05821d399529",
        "colab": {
          "base_uri": "https://localhost:8080/",
          "height": 110
        }
      },
      "cell_type": "code",
      "source": [
        "forums = pd.read_csv('https://raw.githubusercontent.com/azawel/online-communities/master/liferay_forums_subject.csv')\n",
        "forums.tail(2)"
      ],
      "execution_count": 2,
      "outputs": [
        {
          "output_type": "execute_result",
          "data": {
            "text/html": [
              "<div>\n",
              "<style scoped>\n",
              "    .dataframe tbody tr th:only-of-type {\n",
              "        vertical-align: middle;\n",
              "    }\n",
              "\n",
              "    .dataframe tbody tr th {\n",
              "        vertical-align: top;\n",
              "    }\n",
              "\n",
              "    .dataframe thead th {\n",
              "        text-align: right;\n",
              "    }\n",
              "</style>\n",
              "<table border=\"1\" class=\"dataframe\">\n",
              "  <thead>\n",
              "    <tr style=\"text-align: right;\">\n",
              "      <th></th>\n",
              "      <th>userId</th>\n",
              "      <th>categoryId</th>\n",
              "      <th>threadId</th>\n",
              "      <th>subject</th>\n",
              "      <th>createDate</th>\n",
              "    </tr>\n",
              "  </thead>\n",
              "  <tbody>\n",
              "    <tr>\n",
              "      <th>372842</th>\n",
              "      <td>57336453</td>\n",
              "      <td>239390</td>\n",
              "      <td>104030805</td>\n",
              "      <td>web content</td>\n",
              "      <td>2018-02-15 07:26:05</td>\n",
              "    </tr>\n",
              "    <tr>\n",
              "      <th>372843</th>\n",
              "      <td>2887523</td>\n",
              "      <td>1108052</td>\n",
              "      <td>104031832</td>\n",
              "      <td>knowledge base (KB) portlet and ADT support</td>\n",
              "      <td>2018-02-15 08:22:42</td>\n",
              "    </tr>\n",
              "  </tbody>\n",
              "</table>\n",
              "</div>"
            ],
            "text/plain": [
              "          userId  categoryId   threadId  \\\n",
              "372842  57336453      239390  104030805   \n",
              "372843   2887523     1108052  104031832   \n",
              "\n",
              "                                            subject           createDate  \n",
              "372842                                  web content  2018-02-15 07:26:05  \n",
              "372843  knowledge base (KB) portlet and ADT support  2018-02-15 08:22:42  "
            ]
          },
          "metadata": {
            "tags": []
          },
          "execution_count": 2
        }
      ]
    },
    {
      "metadata": {
        "id": "WV_K_Bvm1Jv1",
        "colab_type": "text"
      },
      "cell_type": "markdown",
      "source": [
        "Let's explore the data to learn more about the member journey in the community..\n",
        "\n",
        "# PART I. THE MEMBER JOURNEY \n",
        "\n",
        "## EXPLORING THE DATA WITH FUNCTIONS AND PLOTS: ANALYZING MEMBER LIFESPANS\n",
        "\n",
        "For communities of developers or clients, understanding the member journey over time can allow the community manager to understand how users evolve and how to best engage them at different stages.\n",
        "\n",
        "First, let’s take a look at a typical interaction between members in the forums.  \n",
        "\n",
        "To reproduce the questions and answers of a single discussion thread, I used **forums.loc[forums.threadId==103912609].head(5)** to filter by the “threadId”, which produced the following results:\n",
        "\n",
        "\n",
        "\n",
        "\n"
      ]
    },
    {
      "metadata": {
        "id": "CTFclBL01Jv3",
        "colab_type": "text"
      },
      "cell_type": "markdown",
      "source": [
        "| userID    | threadID  | subject                           | body                                       |\n",
        "|-----------|-----------|-----------------------------------|--------------------------------------------|\n",
        "| 41397961  | 103912609 | service builder, build failed     | I am using liferay 6.2-ce-ga6, jdk...      |\n",
        "| 103690955 | 103912609 | RE: service builder, build failed | Hi. do you know if maven compiler versi..  |\n",
        "| 11260116  | 103912609 | RE: service builder, build failed | Hi, Check [url=https://issues.liferay.c... |\n",
        "| 41397961  | 103912609 | RE: service builder, build failed | I tried but no success.                    |\n",
        "| 26526     | 103912609 | RE: service builder, build failed | Use JDK 1.7.  Also make sure that JAVA_H.. |\n",
        "\n",
        "Note: If you run this code, you won't see the \"body\" column (which was removed from the test data to protect privacy)\n"
      ]
    },
    {
      "metadata": {
        "id": "trk93sob1Jv3",
        "colab_type": "text"
      },
      "cell_type": "markdown",
      "source": [
        "In this discussion, it is clear that the user (41397961) is struggling with a technical issue: “service builder, build failed”.  Some helpful members ask for clarification and provide suggestions (in this case, perhaps to no avail).It appears that experienced members are trying to assist the newbies.  Indeed, a central goal of the forums is to help members advance in their journey from novices to experts.\n",
        "\n",
        "As Jamie Sammons, Developer Advocate at Liferay, Inc. says:\n",
        "\n",
        "> “Most contributors usually begin within the Liferay community as a consumer reading the documentation, reading the forums and Slack.  For many, the first step to active involvement is to receive help within the forums by asking questions specific to their environments. Most contributors who begin helping others usually start this way and then when they feel they are learning the ropes then sometimes even feel obligated to help others to pay back the support they received.\"\n",
        "\n",
        "Another facet in understanding the member journey is identifying the users’ lifespans. Do typical members just post once, or do they remain active over a longer period?  I grouped the posts by user to calculate how long the users remained active, by computing the difference in time between the first and last post. I only included members who started posting before 2015, since the newest members are likely still active.\n",
        "\n",
        "I used a powerful “groupby” feature in Python to create this data frame:\n"
      ]
    },
    {
      "metadata": {
        "id": "ZF1ysFOd1Jv4",
        "colab_type": "code",
        "outputId": "f30b39a4-acd8-4931-aa11-1e37b9cdc970",
        "colab": {
          "base_uri": "https://localhost:8080/",
          "height": 388
        }
      },
      "cell_type": "code",
      "source": [
        "\n",
        "# To work with the dates efficiently, we need to convert the format of the date field\n",
        "forums.createDate = pd.to_datetime(forums.createDate)\n",
        "\n",
        "# Below, I grouped the posts by user. \n",
        "# We can calculate the active 'lifespan', by subtrating the max and min dates for each of the user's post\n",
        "result = forums.groupby('userId')['createDate'].agg(['max','min'])\n",
        "result['lifespan']=result['max']-result['min']\n",
        "\n",
        "# I only included members who started posting before 2015, since the newest members are likely still active.\n",
        "include = result[result['min'].dt.year <= 2015]\n",
        "include.columns= ['Last Post', 'First Post',\"Lifespan\"]\n",
        "include.tail(10)\n"
      ],
      "execution_count": 3,
      "outputs": [
        {
          "output_type": "execute_result",
          "data": {
            "text/html": [
              "<div>\n",
              "<style scoped>\n",
              "    .dataframe tbody tr th:only-of-type {\n",
              "        vertical-align: middle;\n",
              "    }\n",
              "\n",
              "    .dataframe tbody tr th {\n",
              "        vertical-align: top;\n",
              "    }\n",
              "\n",
              "    .dataframe thead th {\n",
              "        text-align: right;\n",
              "    }\n",
              "</style>\n",
              "<table border=\"1\" class=\"dataframe\">\n",
              "  <thead>\n",
              "    <tr style=\"text-align: right;\">\n",
              "      <th></th>\n",
              "      <th>Last Post</th>\n",
              "      <th>First Post</th>\n",
              "      <th>Lifespan</th>\n",
              "    </tr>\n",
              "    <tr>\n",
              "      <th>userId</th>\n",
              "      <th></th>\n",
              "      <th></th>\n",
              "      <th></th>\n",
              "    </tr>\n",
              "  </thead>\n",
              "  <tbody>\n",
              "    <tr>\n",
              "      <th>65671670</th>\n",
              "      <td>2016-01-18 11:11:44</td>\n",
              "      <td>2015-12-16 16:38:16</td>\n",
              "      <td>32 days 18:33:28</td>\n",
              "    </tr>\n",
              "    <tr>\n",
              "      <th>65682762</th>\n",
              "      <td>2015-12-18 16:16:38</td>\n",
              "      <td>2015-12-16 19:42:15</td>\n",
              "      <td>1 days 20:34:23</td>\n",
              "    </tr>\n",
              "    <tr>\n",
              "      <th>65736748</th>\n",
              "      <td>2015-12-17 11:11:58</td>\n",
              "      <td>2015-12-17 11:11:58</td>\n",
              "      <td>0 days 00:00:00</td>\n",
              "    </tr>\n",
              "    <tr>\n",
              "      <th>66131069</th>\n",
              "      <td>2015-12-22 09:50:35</td>\n",
              "      <td>2015-12-21 13:43:38</td>\n",
              "      <td>0 days 20:06:57</td>\n",
              "    </tr>\n",
              "    <tr>\n",
              "      <th>66156794</th>\n",
              "      <td>2015-12-28 08:35:25</td>\n",
              "      <td>2015-12-21 19:51:26</td>\n",
              "      <td>6 days 12:43:59</td>\n",
              "    </tr>\n",
              "    <tr>\n",
              "      <th>66202657</th>\n",
              "      <td>2015-12-22 08:20:24</td>\n",
              "      <td>2015-12-22 08:20:24</td>\n",
              "      <td>0 days 00:00:00</td>\n",
              "    </tr>\n",
              "    <tr>\n",
              "      <th>66225381</th>\n",
              "      <td>2015-12-22 12:41:18</td>\n",
              "      <td>2015-12-22 12:41:18</td>\n",
              "      <td>0 days 00:00:00</td>\n",
              "    </tr>\n",
              "    <tr>\n",
              "      <th>66670388</th>\n",
              "      <td>2015-12-28 09:33:33</td>\n",
              "      <td>2015-12-28 09:33:33</td>\n",
              "      <td>0 days 00:00:00</td>\n",
              "    </tr>\n",
              "    <tr>\n",
              "      <th>66827125</th>\n",
              "      <td>2015-12-30 13:31:44</td>\n",
              "      <td>2015-12-30 13:31:44</td>\n",
              "      <td>0 days 00:00:00</td>\n",
              "    </tr>\n",
              "    <tr>\n",
              "      <th>66848306</th>\n",
              "      <td>2015-12-30 21:11:02</td>\n",
              "      <td>2015-12-30 21:11:02</td>\n",
              "      <td>0 days 00:00:00</td>\n",
              "    </tr>\n",
              "  </tbody>\n",
              "</table>\n",
              "</div>"
            ],
            "text/plain": [
              "                   Last Post          First Post         Lifespan\n",
              "userId                                                           \n",
              "65671670 2016-01-18 11:11:44 2015-12-16 16:38:16 32 days 18:33:28\n",
              "65682762 2015-12-18 16:16:38 2015-12-16 19:42:15  1 days 20:34:23\n",
              "65736748 2015-12-17 11:11:58 2015-12-17 11:11:58  0 days 00:00:00\n",
              "66131069 2015-12-22 09:50:35 2015-12-21 13:43:38  0 days 20:06:57\n",
              "66156794 2015-12-28 08:35:25 2015-12-21 19:51:26  6 days 12:43:59\n",
              "66202657 2015-12-22 08:20:24 2015-12-22 08:20:24  0 days 00:00:00\n",
              "66225381 2015-12-22 12:41:18 2015-12-22 12:41:18  0 days 00:00:00\n",
              "66670388 2015-12-28 09:33:33 2015-12-28 09:33:33  0 days 00:00:00\n",
              "66827125 2015-12-30 13:31:44 2015-12-30 13:31:44  0 days 00:00:00\n",
              "66848306 2015-12-30 21:11:02 2015-12-30 21:11:02  0 days 00:00:00"
            ]
          },
          "metadata": {
            "tags": []
          },
          "execution_count": 3
        }
      ]
    },
    {
      "metadata": {
        "id": "-R1rGUl41Jv9",
        "colab_type": "text"
      },
      "cell_type": "markdown",
      "source": [
        "The community manager can look up the lifespan of any individual member, but it’s also interesting to look at the frequency distribution of all members’ lifespans. How many users had a lifespan of 1 day, compared to users with a much longer lifespan? This is where visualizations are helpful. The plot below demonstrates that almost 800 members had a life span of 1 day, with a large drop off in frequency thereafter. \n"
      ]
    },
    {
      "metadata": {
        "id": "A6sp1e2Q1Jv-",
        "colab_type": "code",
        "outputId": "8dd6ab10-07b0-4191-87cd-76743ac6d19b",
        "colab": {
          "base_uri": "https://localhost:8080/",
          "height": 294
        }
      },
      "cell_type": "code",
      "source": [
        "# Just consider days (not hours, minutes, seconds)\n",
        "lifespan_days = result['lifespan'].dt.days\n",
        "# Now we can count up the number of members who only had a lifespan of 0,1,2... days\n",
        "freq = lifespan_days.value_counts()\n",
        "# The plot shows the members whose lifespan is between 1 and 50 days\n",
        "plt.plot(freq,'.');\n",
        "plt.axis([1, 50, 0, 1000]);\n",
        "plt.xlabel('period from first to last message (DAYS)')\n",
        "plt.ylabel('member counts')\n",
        "plt.title('Length of Active Membership')\n",
        "plt.grid(True)\n",
        "\n",
        "plt.show()"
      ],
      "execution_count": 4,
      "outputs": [
        {
          "output_type": "display_data",
          "data": {
            "image/png": "[encoded data removed]",
            "text/plain": [
              "<Figure size 432x288 with 1 Axes>"
            ]
          },
          "metadata": {
            "tags": []
          }
        }
      ]
    },
    {
      "metadata": {
        "id": "hx4EkqdY1JwC",
        "colab_type": "text"
      },
      "cell_type": "markdown",
      "source": [
        "What’s NOT shown in the plot above is the 13,118 members – 42% of the total members who posted – who have a lifespan of 0 days! (I set the Y access to 1,000 max, so the 12,000 member data point is not shown). A lifespan of 0 days means that there first and last message were on the same day; it is possible that these members simply posted one message and never came back to the forums.\n",
        "\n"
      ]
    },
    {
      "metadata": {
        "id": "-lgwgoLl1JwC",
        "colab_type": "code",
        "outputId": "6c52b7fd-5a9e-4ae1-9436-fa4d5056814f",
        "colab": {
          "base_uri": "https://localhost:8080/",
          "height": 120
        }
      },
      "cell_type": "code",
      "source": [
        "freq.head(5)"
      ],
      "execution_count": 5,
      "outputs": [
        {
          "output_type": "execute_result",
          "data": {
            "text/plain": [
              "0    13118\n",
              "1      833\n",
              "2      574\n",
              "3      441\n",
              "6      355\n",
              "Name: lifespan, dtype: int64"
            ]
          },
          "metadata": {
            "tags": []
          },
          "execution_count": 5
        }
      ]
    },
    {
      "metadata": {
        "id": "xOSFVGkL1JwH",
        "colab_type": "text"
      },
      "cell_type": "markdown",
      "source": [
        "## LEVERAGING THE DATA: COMMUNTY MANAGER IMPLICATIONS \n",
        "\n",
        "With this data in hand, community managers can achieve a strategic dual objective: increase the lifespan of members, and minimize the amount of members who have a lifespan of 0 days. Community managers could initiate a special outreach campaign after a member writes 1 post, and send personalized messages to new members, encouraging continuing engagement. Perhaps they could even award new members points in a “gamification” system.\n",
        "\n",
        "## VISUALIZING THE DATA: UNDERSTANDING THE LIFESPANS OF VETERAN COMMUNITY MEMBERS\n",
        "\n",
        "I was also interested in understanding the typical lifespans of veteran members. Therefore, I changed the scale on the graph above from days to years, in order to zero in on veterans and their lifespans in the community. \n"
      ]
    },
    {
      "metadata": {
        "id": "HeGEL-2ma4Yz",
        "colab_type": "code",
        "outputId": "3154d46c-b46e-4f24-c5c9-6f837fae184a",
        "colab": {
          "base_uri": "https://localhost:8080/",
          "height": 294
        }
      },
      "cell_type": "code",
      "source": [
        "lifespan_years = lifespan_days//365\n",
        "freqyear = lifespan_years.value_counts()\n",
        "plt.plot(freqyear,'.');\n",
        "plt.axis([0, 12, 0,2000]);\n",
        "plt.xlabel('period from first to last message (YEARS)')\n",
        "plt.ylabel('member counts')\n",
        "plt.title('Length of Active Membership')\n",
        "plt.grid(True)\n",
        "\n",
        "plt.show()"
      ],
      "execution_count": 6,
      "outputs": [
        {
          "output_type": "display_data",
          "data": {
            "image/png": "[encoded data removed]",
            "text/plain": [
              "<Figure size 432x288 with 1 Axes>"
            ]
          },
          "metadata": {
            "tags": []
          }
        }
      ]
    },
    {
      "metadata": {
        "id": "oBtdCda51JwI",
        "colab_type": "code",
        "outputId": "2b6802be-5642-4764-f643-c8901b41ab56",
        "colab": {
          "base_uri": "https://localhost:8080/",
          "height": 294
        }
      },
      "cell_type": "code",
      "source": [
        "lifespan_years = lifespan_days//365\n",
        "freqyear = lifespan_years.value_counts()\n",
        "plt.plot(freqyear,'.');\n",
        "plt.axis([0, 12, 0,2000]);\n",
        "plt.xlabel('period from first to last message (YEARS)')\n",
        "plt.ylabel('member counts')\n",
        "plt.title('Length of Active Membership')\n",
        "plt.grid(True)\n",
        "\n",
        "plt.show()"
      ],
      "execution_count": 7,
      "outputs": [
        {
          "output_type": "display_data",
          "data": {
            "image/png": "[encoded data removed]",
            "text/plain": [
              "<Figure size 432x288 with 1 Axes>"
            ]
          },
          "metadata": {
            "tags": []
          }
        }
      ]
    },
    {
      "metadata": {
        "id": "dT7C0Kb31JwL",
        "colab_type": "text"
      },
      "cell_type": "markdown",
      "source": [
        "This chart shows that 1800 members had forum lifespans of 1-2 years. The drops from year 1 to 2 and 2 to 3 are dramatic.  The bottoming out after 2 or 4 years is not surprising, as developers often have Liferay projects that last 2-4 years, after which they move on to other projects or companies.\n",
        "\n",
        "As Jamie Sammons, Developer Advocate at Liferay, Inc. says:\n",
        ">“Most of the time what happens is the developer works for a consulting company and moves on to a new project or the developer may change jobs altogether.  In a few cases the developer works for a SI or partner company and they simply have a massive workload due to good business and simply cannot find time to contribute.”\n",
        "\n",
        "## UTILIZING THE INSIGHT GAINED FROM THE DATA: COMMUNTY MANAGEMENT IMPLICATIONS\n",
        " \n",
        "When a formerly active member goes quiet after being active for 2+ years, he can get special personal outreach, for example:  “What happened? Can we help with your next project?” In addition, these members could be invited to higher level discussions (e.g., the future roadmap of the project or company) rather than code Q&A conversations.\n",
        "\n",
        "## OTHER BEHAVIORAL ANALYSIS TOPICS \n",
        "\n",
        "There is much more insight that can be gleaned using member login information. For example, an analysis can be done on the 90% of registrants who never posted at all, based on their login time stamps. These quiet “lurkers” who log in regularly can then be separated from the truly inactive, and their behavior analyzed to encourage higher levels of engagement. Other interesting information can be gleaned by combining the forum records with other sources of data (e.g., Jira, or CRM), enabling a 360 degree view of the forum members’ relevant activities across platforms. It may also be insightful to analyze popular posting times in the community, so that the marketing and communications team can identify the best times to post in the forums. (Keep in mind that international communities and time zones can make this analysis tricky.) Finally, it might be interesting to understand the impact of initiatives. For example, did member activity increase after the release of a new version of the software? \n",
        "\n",
        "Analysis of community members’ activity on the forums can help improve the customer journey and member engagement. The next level of insight can be obtained by analyzing the actual content of the forum’s posts.\n",
        "\n",
        "# PART 2. USING NATURAL LANGUAGE PROCESSING (NLP) TO UNDERSTAND THE COMMUNITY\n",
        "\n"
      ]
    },
    {
      "metadata": {
        "id": "Uji6BRZr1JwN",
        "colab_type": "text"
      },
      "cell_type": "markdown",
      "source": [
        "## WORD COUNTS AND TRIGRAMS – IDENTIFYING THE MAIN TOPICS GENERATING DISCUSSION\n",
        "\n",
        "What is the entire community talking about, and how are members interacting? With a few steps, we can make a chart that contains the word counts from the subject lines of every discussion in two Liferay forum categories (“Announcements” and “Development”).  \n",
        "\n",
        "To look at the subject lines of a single cateogry, I use masking and fancy indexing to get a clean dataframe of a single category:\n",
        "\n",
        "Next, I combine (chunk) all of the text from the subject lines of all posts in this category.  \n",
        "I exclude messages if they include \"RE:\" because these are duplicative (responses to the oringial post) "
      ]
    },
    {
      "metadata": {
        "id": "6a4XNwBf1JwO",
        "colab_type": "code",
        "colab": {}
      },
      "cell_type": "code",
      "source": [
        "development = forums.loc[forums.categoryId == 239390]\n"
      ],
      "execution_count": 0,
      "outputs": []
    },
    {
      "metadata": {
        "id": "PAT7EOTG1JwR",
        "colab_type": "text"
      },
      "cell_type": "markdown",
      "source": [
        "Next, I combine (chunk) and tokenize all of the text from the subject lines of all posts in this category.\n",
        "I exclude messages if they include \"RE:\" because these are duplicative (responses to the oringial post)."
      ]
    },
    {
      "metadata": {
        "id": "w1iyqMVK1JwS",
        "colab_type": "code",
        "colab": {}
      },
      "cell_type": "code",
      "source": [
        "\n",
        "chunks = []\n",
        "for s in development.subject:\n",
        "    if \"RE:\" not in s:\n",
        "        chunks.append(s)\n",
        "result = ' '.join(chunks)\n",
        "\n",
        "#tokenize the words\n",
        "tokens = nltk.word_tokenize(result)\n",
        "words = [w.lower() for w in tokens]\n",
        "stoplist = set(('the', 'with', 'and',\"for\",'not','from','can','get','using','add','use','when','new','after','working','change','adding','action','does','getting','a','.','\\\\','(',')','\\'','on', ':','in','-','of','to','is'))\n",
        "\n"
      ],
      "execution_count": 0,
      "outputs": []
    },
    {
      "metadata": {
        "id": "a9UKhBWF1JwV",
        "colab_type": "text"
      },
      "cell_type": "markdown",
      "source": [
        "Now, we can create a list of the most common words in the \"development\" forum category\n"
      ]
    },
    {
      "metadata": {
        "id": "WfILZHdw1JwX",
        "colab_type": "code",
        "colab": {}
      },
      "cell_type": "code",
      "source": [
        "devWords = [word for word in words if word not in stoplist]\n",
        "fdist_dev = nltk.FreqDist(devWords)\n",
        "dev_common = fdist_dev.most_common(10)"
      ],
      "execution_count": 0,
      "outputs": []
    },
    {
      "metadata": {
        "id": "iVYChdqc1JwZ",
        "colab_type": "text"
      },
      "cell_type": "markdown",
      "source": [
        "Below, I repeat the same steps with the Announcements category: https://community.liferay.com/forums/-/message_boards/category/338866\n"
      ]
    },
    {
      "metadata": {
        "id": "QFUNU8uM1Jwb",
        "colab_type": "code",
        "colab": {}
      },
      "cell_type": "code",
      "source": [
        "announcements = forums.loc[forums.categoryId == 338866]\n",
        "\n",
        "chunks2 = []\n",
        "for s in announcements.subject:\n",
        "    if \"RE:\" not in s:\n",
        "        chunks2.append(s)\n",
        "result2 = ' '.join(chunks2)\n",
        "\n",
        "#tokenized words from the subject lines\n",
        "tokens2 = nltk.word_tokenize(result2)\n",
        "words2 = [w.lower() for w in tokens2]\n",
        "\n",
        "announceWords = [word for word in words2 if word not in stoplist]\n",
        "fdist_announce = nltk.FreqDist(announceWords)\n",
        "announce_common = fdist_announce.most_common(10)"
      ],
      "execution_count": 0,
      "outputs": []
    },
    {
      "metadata": {
        "id": "6m4EfXwc1Jwf",
        "colab_type": "text"
      },
      "cell_type": "markdown",
      "source": [
        "Finally, we can see the word counts we can make a chart that contains  the word counts from the subject lines of \n",
        "every discussion in two Liferay forum categories (“Announcements” and “Development”)."
      ]
    },
    {
      "metadata": {
        "id": "SKdzjfIH1Jwf",
        "colab_type": "code",
        "outputId": "3c7c58da-40c8-4a61-b3cd-e6f1d596d41e",
        "colab": {
          "base_uri": "https://localhost:8080/",
          "height": 357
        }
      },
      "cell_type": "code",
      "source": [
        "  dfWord = pd.DataFrame(\n",
        "    {'Development': dev_common,\n",
        "     'Announcements': announce_common\n",
        "    })\n",
        "dfWord.index += 1 \n",
        "dfWord"
      ],
      "execution_count": 12,
      "outputs": [
        {
          "output_type": "execute_result",
          "data": {
            "text/html": [
              "<div>\n",
              "<style scoped>\n",
              "    .dataframe tbody tr th:only-of-type {\n",
              "        vertical-align: middle;\n",
              "    }\n",
              "\n",
              "    .dataframe tbody tr th {\n",
              "        vertical-align: top;\n",
              "    }\n",
              "\n",
              "    .dataframe thead th {\n",
              "        text-align: right;\n",
              "    }\n",
              "</style>\n",
              "<table border=\"1\" class=\"dataframe\">\n",
              "  <thead>\n",
              "    <tr style=\"text-align: right;\">\n",
              "      <th></th>\n",
              "      <th>Announcements</th>\n",
              "      <th>Development</th>\n",
              "    </tr>\n",
              "  </thead>\n",
              "  <tbody>\n",
              "    <tr>\n",
              "      <th>1</th>\n",
              "      <td>(re, 797)</td>\n",
              "      <td>(re, 102652)</td>\n",
              "    </tr>\n",
              "    <tr>\n",
              "      <th>2</th>\n",
              "      <td>(liferay, 126)</td>\n",
              "      <td>(liferay, 7354)</td>\n",
              "    </tr>\n",
              "    <tr>\n",
              "      <th>3</th>\n",
              "      <td>(!, 39)</td>\n",
              "      <td>(portlet, 6784)</td>\n",
              "    </tr>\n",
              "    <tr>\n",
              "      <th>4</th>\n",
              "      <td>(released, 15)</td>\n",
              "      <td>(how, 4769)</td>\n",
              "    </tr>\n",
              "    <tr>\n",
              "      <th>5</th>\n",
              "      <td>(development, 15)</td>\n",
              "      <td>(?, 4543)</td>\n",
              "    </tr>\n",
              "    <tr>\n",
              "      <th>6</th>\n",
              "      <td>(openxava, 14)</td>\n",
              "      <td>(custom, 1976)</td>\n",
              "    </tr>\n",
              "    <tr>\n",
              "      <th>7</th>\n",
              "      <td>(community, 13)</td>\n",
              "      <td>(page, 1884)</td>\n",
              "    </tr>\n",
              "    <tr>\n",
              "      <th>8</th>\n",
              "      <td>(symposium, 13)</td>\n",
              "      <td>(user, 1756)</td>\n",
              "    </tr>\n",
              "    <tr>\n",
              "      <th>9</th>\n",
              "      <td>(rapid, 13)</td>\n",
              "      <td>(problem, 1267)</td>\n",
              "    </tr>\n",
              "    <tr>\n",
              "      <th>10</th>\n",
              "      <td>(available, 11)</td>\n",
              "      <td>(service, 1236)</td>\n",
              "    </tr>\n",
              "  </tbody>\n",
              "</table>\n",
              "</div>"
            ],
            "text/plain": [
              "        Announcements      Development\n",
              "1           (re, 797)     (re, 102652)\n",
              "2      (liferay, 126)  (liferay, 7354)\n",
              "3             (!, 39)  (portlet, 6784)\n",
              "4      (released, 15)      (how, 4769)\n",
              "5   (development, 15)        (?, 4543)\n",
              "6      (openxava, 14)   (custom, 1976)\n",
              "7     (community, 13)     (page, 1884)\n",
              "8     (symposium, 13)     (user, 1756)\n",
              "9         (rapid, 13)  (problem, 1267)\n",
              "10    (available, 11)  (service, 1236)"
            ]
          },
          "metadata": {
            "tags": []
          },
          "execution_count": 12
        }
      ]
    },
    {
      "metadata": {
        "id": "s6IFVbaz1Jwm",
        "colab_type": "text"
      },
      "cell_type": "markdown",
      "source": [
        "The “?\" and word \"how\" that appear in the Development category are typical for this community, where the primary use case is members asking other members technical or product-related questions.   This “Q & A” content structure can be confirmed by looking at the most common trigrams (3 word combinations) below.   \n",
        "\n",
        "Development Category Trigrams:\n"
      ]
    },
    {
      "metadata": {
        "id": "v3Egr6271Jwn",
        "colab_type": "code",
        "outputId": "1b15b1f6-020b-40a7-826e-0744797d3df6",
        "colab": {
          "base_uri": "https://localhost:8080/",
          "height": 103
        }
      },
      "cell_type": "code",
      "source": [
        "\n",
        "tgs = nltk.trigrams(words)\n",
        "fdistT = nltk.FreqDist(tgs)\n",
        "fdistT.most_common(5)"
      ],
      "execution_count": 13,
      "outputs": [
        {
          "output_type": "execute_result",
          "data": {
            "text/plain": [
              "[(('re', 're', 're'), 58409),\n",
              " (('re', 'how', 'to'), 2669),\n",
              " (('re', 're', 'how'), 2255),\n",
              " (('?', 're', 're'), 2097),\n",
              " (('re', 're', 'liferay'), 1121)]"
            ]
          },
          "metadata": {
            "tags": []
          },
          "execution_count": 13
        }
      ]
    },
    {
      "metadata": {
        "id": "98vIxyhR1Jws",
        "colab_type": "text"
      },
      "cell_type": "markdown",
      "source": [
        "The “!” in the Announcement category is more common for professional communities that are celebrating successes (e.g., “Congrats on the sale!).  In the case of the Liferay forums, the dialogue resembles a typical “information dissemination” community (with keywords such as “released” and “available”). \n",
        "\n",
        "NOTES ABOUT THE DATA AND NLP ANALYSIS\n",
        "\n",
        "- For this type of analysis, make sure characters such as \"?” and “!” are not included on stopper lists \n",
        "- The announcement category is much smaller than the development category, and thus the word counts are much lower (but the relative ranking is what is most important).\n",
        "\n"
      ]
    },
    {
      "metadata": {
        "id": "351t8EAi1Jwu",
        "colab_type": "text"
      },
      "cell_type": "markdown",
      "source": [
        "## WORD CLOUDS – UNDERSTANDING TOPICS OF CONVERSATION \n",
        "\n",
        "The wordcloud below is another way to show the keywords in a category.  In the stoplist here, I removed a few words that were common to this corpus, such as \"Liferay\"."
      ]
    },
    {
      "metadata": {
        "id": "jbvzb8e31Jww",
        "colab_type": "code",
        "outputId": "a98b9532-9a1f-468d-fae1-60a1236fb3c9",
        "colab": {
          "base_uri": "https://localhost:8080/",
          "height": 219
        }
      },
      "cell_type": "code",
      "source": [
        "\n",
        "\n",
        "from wordcloud import WordCloud\n",
        "text = result\n",
        "\n",
        "def generate_wordcloud(text): \n",
        "    wordcloud = WordCloud( relative_scaling = 0.5,\n",
        "                          stopwords = {'re','to', 'of','for','the','is','Liferay','in','and','on','from','with'} \n",
        "                          ).generate(text)\n",
        "    plt.imshow(wordcloud)\n",
        "    plt.axis(\"off\")\n",
        "    plt.show()\n",
        "\n",
        "generate_wordcloud(text)\n"
      ],
      "execution_count": 14,
      "outputs": [
        {
          "output_type": "display_data",
          "data": {
            "image/png": "[encoded data removed]",
            "text/plain": [
              "<Figure size 432x288 with 1 Axes>"
            ]
          },
          "metadata": {
            "tags": []
          }
        }
      ]
    },
    {
      "metadata": {
        "id": "6e0oecLP1Jwz",
        "colab_type": "text"
      },
      "cell_type": "markdown",
      "source": [
        "We could also create a Word Cloud for a single user over time. We would just need to reproduce the steps above (Chunk, Tokenize, etc, for a single user).\n",
        "\n",
        "We could call this a \"Member Profile Word Cloud.\" and the data that comprises the word cloud can be used to radically improve the member’s experience in the community.  For example, posts on the topics identified through the word cloud can appear in the member’s activity feed, making the feed more relevant and engaging."
      ]
    },
    {
      "metadata": {
        "id": "Qrq2PzEn1Jw0",
        "colab_type": "text"
      },
      "cell_type": "markdown",
      "source": [
        "## KEYWORD ANALYSIS - HOW NLP CAN ENABLE GREATER EFFICIENCY IN COMMUNITY MANAGEMENT\n",
        "\n",
        "NLP can also help with routine, but essential, community management tasks.  For example, a common challenge in technical forums is getting good answers to all of the questions asked by community members (thus fostering trust and engagement with the community.) \n",
        "\n",
        "A typical approach used by Liferay is to assign experts to cover each forum category. However, in Liferay’s case, nearly 40% of the Liferay messages fall in one category, “development”, and it is impractical to assign experts to cover this entire catch-all category. To tackle this issue, we can look for key themes to some of the discussions in this category that can be isolated to form smaller, more manageable discussion categories.  Keyword analysis is very helpful here, but in this case, characters and short words aren’t helpful, so I filtered for longer words:"
      ]
    },
    {
      "metadata": {
        "id": "HoQPHPqS1Jw1",
        "colab_type": "code",
        "outputId": "36ba1370-0373-47bc-e54f-5b97576b7cbc",
        "colab": {
          "base_uri": "https://localhost:8080/",
          "height": 874
        }
      },
      "cell_type": "code",
      "source": [
        "long_words = [word for word in words if\n",
        "              len(word) > 2 and word not in stoplist]\n",
        "fdistLong = nltk.FreqDist(long_words)\n",
        "fdistLong.most_common(50)"
      ],
      "execution_count": 15,
      "outputs": [
        {
          "output_type": "execute_result",
          "data": {
            "text/plain": [
              "[('liferay', 7354),\n",
              " ('portlet', 6784),\n",
              " ('how', 4769),\n",
              " ('custom', 1976),\n",
              " ('page', 1884),\n",
              " ('user', 1756),\n",
              " ('problem', 1267),\n",
              " ('service', 1236),\n",
              " ('error', 1222),\n",
              " ('web', 1180),\n",
              " ('content', 1098),\n",
              " ('portlets', 963),\n",
              " ('search', 950),\n",
              " ('file', 917),\n",
              " ('url', 781),\n",
              " ('hook', 773),\n",
              " ('issue', 769),\n",
              " ('create', 754),\n",
              " ('jsp', 729),\n",
              " ('document', 719),\n",
              " ('login', 703),\n",
              " ('portal', 695),\n",
              " ('6.2', 671),\n",
              " ('display', 643),\n",
              " ('data', 602),\n",
              " ('plugin', 602),\n",
              " ('builder', 590),\n",
              " ('theme', 566),\n",
              " ('database', 547),\n",
              " ('template', 544),\n",
              " ('ext', 515),\n",
              " ('workflow', 493),\n",
              " ('users', 483),\n",
              " ('access', 476),\n",
              " ('asset', 476),\n",
              " ('6.1', 471),\n",
              " ('pages', 459),\n",
              " ('site', 458),\n",
              " ('library', 456),\n",
              " ('class', 450),\n",
              " ('image', 437),\n",
              " ('session', 422),\n",
              " ('spring', 406),\n",
              " ('default', 399),\n",
              " (\"n't\", 396),\n",
              " ('form', 392),\n",
              " ('multiple', 390),\n",
              " ('struts', 387),\n",
              " ('creating', 383),\n",
              " ('help', 381)]"
            ]
          },
          "metadata": {
            "tags": []
          },
          "execution_count": 15
        }
      ]
    },
    {
      "metadata": {
        "id": "ZJLURByn1Jw8",
        "colab_type": "text"
      },
      "cell_type": "markdown",
      "source": [
        "It is clear that there are some good candidates here for topics that can be separated out from the crowded \"Development\" category:\n",
        "\n",
        "- Portlet \n",
        "- JSP \n",
        "- Builder\n",
        "- Theme \n",
        "- Database\n",
        "\n",
        "Bigrams (2 word combinations) reveal other good potential topics, including “service builder”, “custom portlet”, and “document library.”\n",
        "   \n",
        "It is also helpful to understand popular topics and how they trend over time. For example, in the dispersion plot below, we see thatthe community talked intensely about “6.1” (presumably, a version of Liferay) as it was coming out – and then the discussions quieted down.  There was also an overlap of discussion around “6.1” and “6.2” as “6.2” was released. The code and dispersion plot for “6.1” and “6.2” appear below.\n",
        "\n",
        "\n"
      ]
    },
    {
      "metadata": {
        "id": "mVcvsWcyRRnU",
        "colab_type": "text"
      },
      "cell_type": "markdown",
      "source": [
        ""
      ]
    },
    {
      "metadata": {
        "id": "jmJ7Sei91Jw9",
        "colab_type": "code",
        "outputId": "ae4bacc7-50be-41b4-964d-456c063d645f",
        "colab": {
          "base_uri": "https://localhost:8080/",
          "height": 472
        }
      },
      "cell_type": "code",
      "source": [
        "mytext = nltk.Text(words) \n",
        "plt.style.use('default')\n",
        "mytext.dispersion_plot([\"6.1\",\"6.2\"], )"
      ],
      "execution_count": 16,
      "outputs": [
        {
          "output_type": "display_data",
          "data": {
            "image/png": "[encoded data removed]",
            "text/plain": [
              "<Figure size 640x480 with 1 Axes>"
            ]
          },
          "metadata": {
            "tags": []
          }
        }
      ]
    },
    {
      "metadata": {
        "id": "V79rL_oQ1JxA",
        "colab_type": "code",
        "outputId": "77863c01-932f-42ad-ce46-fa09c04ceef2",
        "colab": {
          "base_uri": "https://localhost:8080/",
          "height": 472
        }
      },
      "cell_type": "code",
      "source": [
        "# Here is an analysis of some other topics in the top 50 list:\n",
        "mytext.dispersion_plot([\"jsp\",\"database\",\"struts\",\"image\"])\n"
      ],
      "execution_count": 17,
      "outputs": [
        {
          "output_type": "display_data",
          "data": {
            "image/png": "[encoded data removed]",
            "text/plain": [
              "<Figure size 640x480 with 1 Axes>"
            ]
          },
          "metadata": {
            "tags": []
          }
        }
      ]
    },
    {
      "metadata": {
        "collapsed": true,
        "id": "9qSwmfp31JxD",
        "colab_type": "text"
      },
      "cell_type": "markdown",
      "source": [
        "“Struts” were a hot topic early on, and then the topic died out. “JSP” and “database” were discussed extensively throughout.  It seems uncertain if “image” is a good candidate for its own category. To get a greater understanding of whether “image” is indeed an important word, one option is to run mytext.concordance(“image”) to show a sample of how “image” was used in the context of the message, before deciding if “images” would be a useful forum category. \n",
        "\n",
        "The above functions and visualizations are just the tip of the iceberg; there is much more that can be discovered by analyzing user behavior and analysis of the content. Alas, meaningful analysis with the latest AI tools, especially for “unstructured” analysis (where the system doesn’t know up-front what it’s looking for) requires a lot of data. Even so, relatively basic, yet thoughtful analysis of small data sets can significantly improve community management.  Understanding the members’ behavior and their content can augment community managers’ ability to effectively serve their communities, increasing their communities’ relevance and by extension, engagement, membership, and impact. "
      ]
    }
  ]
}